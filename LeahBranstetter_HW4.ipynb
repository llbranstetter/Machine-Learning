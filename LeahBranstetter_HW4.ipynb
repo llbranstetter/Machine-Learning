{
 "cells": [
  {
   "cell_type": "markdown",
   "id": "8e3ee8ff-a214-421d-98e3-f02b7e586139",
   "metadata": {},
   "source": [
    "# HW4"
   ]
  },
  {
   "cell_type": "markdown",
   "id": "b3b0b1bd-37e4-45cd-9dcc-8e86c38c1dc1",
   "metadata": {},
   "source": [
    "## Imports "
   ]
  },
  {
   "cell_type": "code",
   "execution_count": 469,
   "id": "e1d61175-9571-4ec3-90a2-7a8c7db1ec81",
   "metadata": {},
   "outputs": [],
   "source": [
    "#import statements:\n",
    "\n",
    "import autograd.numpy as np\n",
    "from autograd import grad\n",
    "import pandas as pd\n",
    "from scipy.spatial.distance import cdist\n",
    "from sklearn.metrics import silhouette_score\n",
    "\n",
    "# Skip the first row (header row)\n",
    "data = pd.read_csv(\"hw4_cluster.csv\", skiprows=1, header=None)"
   ]
  },
  {
   "cell_type": "markdown",
   "id": "b1985530-e745-431c-9616-38d1af0f9859",
   "metadata": {},
   "source": [
    "## K-means "
   ]
  },
  {
   "cell_type": "code",
   "execution_count": 471,
   "id": "3d6e9f56-fd4b-4699-ba7c-9a5694887b82",
   "metadata": {},
   "outputs": [],
   "source": [
    "# Function to compute the mean of a cluster\n",
    "def compute_mean(cluster, mean_Method):\n",
    "    if mean_Method == 'mean':\n",
    "        # Simple mean computation (average of points in the cluster)\n",
    "        return np.mean(cluster, axis=0)\n",
    "    else:\n",
    "        raise ValueError(\"Unsupported mean_Method\")\n",
    "     \n",
    "def k_means(input, mean_Method, init_Method, max_iter, K):\n",
    "    # initialize an array of K clusters (each cluster is represented by an array, so this is an array of arrays)\n",
    "\n",
    "    # split input into initial set of K clusters using initialization method \n",
    "    if init_Method == 'randomseedselection':\n",
    "        # Random initialization of cluster centers\n",
    "        indices = np.random.choice(len(input), K, replace=False)\n",
    "        clusters = [input.iloc[i].values for i in indices]\n",
    "    # Random split initialization of clusters\n",
    "    elif init_Method == 'randomsplitinitialization':\n",
    "        cluster_assignments = np.random.randint(0, K, len(input))\n",
    "        clusters = [input.iloc[cluster_assignments == i].values for i in range(K)]\n",
    "    else:\n",
    "        raise ValueError(\"Unsupported init_Method\")\n",
    "\n",
    "    # Function to assign each point to the closest cluster\n",
    "    def assign_to_clusters(input, clusters):\n",
    "        \n",
    "        assignments = []\n",
    "        for i in range(len(input)):\n",
    "            point = input.iloc[i].values  # Use .iloc to get the point as an array\n",
    "            distances = [np.linalg.norm(point - cluster) for cluster in clusters]\n",
    "            assignments.append(np.argmin(distances))\n",
    "        return assignments\n",
    "\n",
    "    #stop condition 1: max_iter reached\n",
    "    for iteration in range(max_iter):\n",
    "        # Step 1: Assign points to clusters\n",
    "        assignments = assign_to_clusters(input, clusters)\n",
    "\n",
    "        # Step 2: Recompute the means of each cluster\n",
    "        new_clusters = []\n",
    "        for i in range(K):\n",
    "            cluster_points = [input.iloc[j] for j in range(len(input)) if assignments[j] == i]\n",
    "            if cluster_points:\n",
    "                new_clusters.append(compute_mean(cluster_points, mean_Method))\n",
    "            else:\n",
    "                new_clusters.append(np.zeros_like(clusters[0]))  # Handle empty cluster\n",
    "\n",
    "        # Stop condition 2: clusters have not changed\n",
    "        if np.array_equal(new_clusters, clusters):\n",
    "            print(f\"Converged at iteration {iteration}\")\n",
    "            break\n",
    "\n",
    "        # Step 3: Update clusters\n",
    "        clusters = new_clusters\n",
    "\n",
    "        # Step 4: If any cluster is empty, remove it and reduce K\n",
    "        for i in range(len(clusters)-1, -1, -1):\n",
    "            if np.all(clusters[i] == 0):\n",
    "                del clusters[i]\n",
    "                K -= 1\n",
    "        \n",
    "        # Reinitialize clusters if K is less than the initial K (this helps for the random split initializaiton method)\n",
    "        if K < len(new_clusters):\n",
    "            print(f\"Reinitializing clusters because K is now {K}.\")\n",
    "            cluster_assignments = np.random.randint(0, K, len(input))  # Re-randomly assign points to clusters\n",
    "            clusters = [input.iloc[cluster_assignments == i].values for i in range(K)]\n",
    "            \n",
    "    return clusters, assignments\n",
    "    # return array of clusters"
   ]
  },
  {
   "cell_type": "markdown",
   "id": "ad03775e-2e9f-4d71-a708-dbd6b38f0090",
   "metadata": {},
   "source": [
    "## Silhouette"
   ]
  },
  {
   "cell_type": "code",
   "execution_count": 550,
   "id": "be174145-d299-4178-8260-9758f1396bf5",
   "metadata": {},
   "outputs": [],
   "source": [
    "# Helper function to compute the Euclidean distance between two points\n",
    "def euclidean_distance(p1, p2):\n",
    "    return np.linalg.norm(p1 - p2)\n",
    "        \n",
    "def silhouette(X,labels,clusters):\n",
    "    #initialize total\n",
    "    \n",
    "    total_silhouette = 0\n",
    "    for i in range(len(X)):\n",
    "        point=X.iloc[i].values\n",
    "        cluster=labels[i]\n",
    "        cluster_centroid=clusters[cluster]\n",
    "        min_dist = np.inf\n",
    "        closest_cluster=None\n",
    "        for k in range(len(clusters)):\n",
    "            cc=clusters[k]\n",
    "            cluster_dist = euclidean_distance(cc, cluster_centroid)\n",
    "            if cluster_dist > 0 and cluster_dist < min_dist:\n",
    "                min_dist = cluster_dist\n",
    "                closest_cluster=k\n",
    "        \n",
    "        intra_distance=0\n",
    "        num_intra_points=0\n",
    "        inter_distance=0\n",
    "        num_inter_points=0\n",
    "        for j in range(len(X)):\n",
    "            other_point=X.iloc[j].values\n",
    "            other_cluster=labels[j]\n",
    "            if i==j:\n",
    "                continue\n",
    "\n",
    "            if cluster==other_cluster:\n",
    "                intra_distance += euclidean_distance(point, other_point)\n",
    "                num_intra_points+=1\n",
    "            elif other_cluster==closest_cluster:\n",
    "                inter_distance += euclidean_distance(point, other_point)\n",
    "                num_inter_points+=1\n",
    "                \n",
    "        \n",
    "        a=intra_distance/num_intra_points\n",
    "        b=inter_distance/(num_inter_points+1)\n",
    "            \n",
    "        silhouette_val = (b - a) / max(a, b)\n",
    "        total_silhouette += silhouette_val\n",
    "\n",
    "    return total_silhouette"
   ]
  },
  {
   "cell_type": "markdown",
   "id": "1d95832a-05bc-486b-a583-6b08a9a11a3f",
   "metadata": {},
   "source": [
    "## Results"
   ]
  },
  {
   "cell_type": "code",
   "execution_count": 553,
   "id": "f0e0d1d4-c8ff-44e1-b43a-c7caa406caa0",
   "metadata": {},
   "outputs": [
    {
     "name": "stdout",
     "output_type": "stream",
     "text": [
      "Converged at iteration 3\n",
      "Silhouete score for 5 clusters: 19.178776159568752\n"
     ]
    }
   ],
   "source": [
    "# trial run with random seed selection and K = 5\n",
    "K = 5\n",
    "init_Method = 'randomseedselection'\n",
    "max_iter = 50\n",
    "mean_Method = 'mean'\n",
    "\n",
    "clusters, assignments = k_means(data, mean_Method, init_Method, max_iter, K)\n",
    "silhouette_score = silhouette(data, assignments, clusters)\n",
    "\n",
    "print(f\"Silhouete score for 5 clusters: {silhouette_score}\")"
   ]
  },
  {
   "cell_type": "markdown",
   "id": "d571406e-d5ac-4dd9-80ef-37df87e96777",
   "metadata": {},
   "source": [
    "## Bonus"
   ]
  },
  {
   "cell_type": "code",
   "execution_count": 604,
   "id": "4b1f041d-271a-4798-ae69-0333c696f943",
   "metadata": {},
   "outputs": [
    {
     "name": "stdout",
     "output_type": "stream",
     "text": [
      "Converged at iteration 1\n",
      "Converged at iteration 4\n",
      "Converged at iteration 2\n",
      "Converged at iteration 1\n",
      "Converged at iteration 6\n",
      "Converged at iteration 1\n",
      "Converged at iteration 1\n",
      "Converged at iteration 1\n",
      "Converged at iteration 4\n",
      "Converged at iteration 1\n",
      "Converged at iteration 1\n",
      "Converged at iteration 1\n",
      "Converged at iteration 1\n",
      "Converged at iteration 1\n",
      "Converged at iteration 2\n",
      "Converged at iteration 1\n",
      "Converged at iteration 1\n",
      "Converged at iteration 1\n",
      "Converged at iteration 3\n",
      "Converged at iteration 6\n",
      "Converged at iteration 1\n",
      "Converged at iteration 6\n",
      "Converged at iteration 1\n",
      "Converged at iteration 3\n",
      "Converged at iteration 5\n",
      "Converged at iteration 1\n",
      "Converged at iteration 1\n",
      "Converged at iteration 2\n",
      "Converged at iteration 1\n",
      "Converged at iteration 2\n",
      "Converged at iteration 1\n",
      "Converged at iteration 1\n",
      "Converged at iteration 4\n",
      "Converged at iteration 1\n",
      "Converged at iteration 2\n",
      "Converged at iteration 1\n",
      "Converged at iteration 1\n",
      "Converged at iteration 1\n",
      "Converged at iteration 2\n",
      "Converged at iteration 3\n",
      "Converged at iteration 1\n",
      "Converged at iteration 1\n",
      "Converged at iteration 1\n",
      "Converged at iteration 1\n",
      "Converged at iteration 2\n",
      "Converged at iteration 1\n",
      "Converged at iteration 1\n",
      "Converged at iteration 3\n",
      "Converged at iteration 3\n",
      "Converged at iteration 5\n",
      "Average Score for K=1 -40.0\n",
      "Average Score for K=2 -12.038234377133467\n",
      "Average Score for K=3 15.224812685454935\n",
      "Average Score for K=4 8.738239095572007\n",
      "Average Score for K=5 28.735309590499774\n"
     ]
    }
   ],
   "source": [
    "\n",
    "# run with different Ks\n",
    "# sometimes you need to reinitialize the cluster (if K = K-1, reinitialize clusters and run for the remaining iterations)\n",
    "# init_Method = 'randomseedselection'\n",
    "# max_iter = 50\n",
    "init_Method = 'randomsplitinitialization'\n",
    "max_iter = 100\n",
    "mean_Method = 'mean'\n",
    "\n",
    "Ks=[1,2,3,4,5]\n",
    "K_SScores={}\n",
    "for i in range(10):\n",
    "    for K in Ks:\n",
    "        clusters, assignments = k_means(data, mean_Method, init_Method, max_iter, K)\n",
    "        silhouette_score = silhouette(data, assignments, clusters)\n",
    "        # print(f\"Silhouete score for {K} clusters: {silhouette_score}\")\n",
    "        K_Score=K_SScores.get(K,[])\n",
    "        K_Score.append(silhouette_score)\n",
    "        K_SScores[K]=K_Score\n",
    "\n",
    "Avg_Scores=[]\n",
    "for K in Ks:\n",
    "    print(f\"Average Score for K={K}\",np.mean(K_SScores[K]))\n",
    "    Avg_Scores.append(np.mean(K_SScores[K]))"
   ]
  },
  {
   "cell_type": "code",
   "execution_count": 605,
   "id": "67f0f965-b811-4611-82d0-d8b53d54f5c1",
   "metadata": {},
   "outputs": [
    {
     "data": {
      "image/png": "[encoded data removed]",
      "text/plain": [
       "<Figure size 640x480 with 1 Axes>"
      ]
     },
     "metadata": {},
     "output_type": "display_data"
    }
   ],
   "source": [
    "import matplotlib.pyplot as plt\n",
    "plt.plot(Ks,Avg_Scores)\n",
    "plt.show()"
   ]
  },
  {
   "cell_type": "code",
   "execution_count": 606,
   "id": "39aeffe3-6151-4867-8d9c-05af210f2424",
   "metadata": {},
   "outputs": [
    {
     "name": "stdout",
     "output_type": "stream",
     "text": [
      "The best K for random split initialization is 5\n"
     ]
    }
   ],
   "source": [
    "# Best value\n",
    "print(f\"The best K for random split initialization is {Avg_Scores.index(max(Avg_Scores))+1}\")"
   ]
  },
  {
   "cell_type": "code",
   "execution_count": null,
   "id": "635fa323-48c3-4661-8c96-8acfd4ccc0fe",
   "metadata": {},
   "outputs": [],
   "source": []
  },
  {
   "cell_type": "code",
   "execution_count": null,
   "id": "b971aebe-cfb9-4b93-ab63-f3186c0bdac7",
   "metadata": {},
   "outputs": [],
   "source": []
  }
 ],
 "metadata": {
  "kernelspec": {
   "display_name": "Python 3 (ipykernel)",
   "language": "python",
   "name": "python3"
  },
  "language_info": {
   "codemirror_mode": {
    "name": "ipython",
    "version": 3
   },
   "file_extension": ".py",
   "mimetype": "text/x-python",
   "name": "python",
   "nbconvert_exporter": "python",
   "pygments_lexer": "ipython3",
   "version": "3.12.4"
  }
 },
 "nbformat": 4,
 "nbformat_minor": 5
}
